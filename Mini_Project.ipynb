{
  "nbformat": 4,
  "nbformat_minor": 0,
  "metadata": {
    "colab": {
      "name": "Mini_Project.ipynb",
      "provenance": [],
      "authorship_tag": "ABX9TyO/yS/GbKDJedVtAKG89iQZ",
      "include_colab_link": true
    },
    "kernelspec": {
      "name": "python3",
      "display_name": "Python 3"
    },
    "language_info": {
      "name": "python"
    }
  },
  "cells": [
    {
      "cell_type": "markdown",
      "metadata": {
        "id": "view-in-github",
        "colab_type": "text"
      },
      "source": [
        "<a href=\"https://colab.research.google.com/github/ssgudagework/Machine-Learning-Projects/blob/main/Mini_Project.ipynb\" target=\"_parent\"><img src=\"https://colab.research.google.com/assets/colab-badge.svg\" alt=\"Open In Colab\"/></a>"
      ]
    },
    {
      "cell_type": "code",
      "metadata": {
        "id": "8PjPpRfDJCZq"
      },
      "source": [
        "import pandas as pd"
      ],
      "execution_count": null,
      "outputs": []
    },
    {
      "cell_type": "code",
      "metadata": {
        "id": "ucIVjAdZJPob"
      },
      "source": [
        "df = pd.read_csv(\"/content/winequality-red.csv\")"
      ],
      "execution_count": null,
      "outputs": []
    },
    {
      "cell_type": "code",
      "metadata": {
        "colab": {
          "base_uri": "https://localhost:8080/",
          "height": 436
        },
        "id": "-p-7lXyUJSlW",
        "outputId": "5db36d6d-f69f-4b33-e214-2ac3e3727701"
      },
      "source": [
        "df"
      ],
      "execution_count": null,
      "outputs": [
        {
          "output_type": "execute_result",
          "data": {
            "text/html": [
              "<div>\n",
              "<style scoped>\n",
              "    .dataframe tbody tr th:only-of-type {\n",
              "        vertical-align: middle;\n",
              "    }\n",
              "\n",
              "    .dataframe tbody tr th {\n",
              "        vertical-align: top;\n",
              "    }\n",
              "\n",
              "    .dataframe thead th {\n",
              "        text-align: right;\n",
              "    }\n",
              "</style>\n",
              "<table border=\"1\" class=\"dataframe\">\n",
              "  <thead>\n",
              "    <tr style=\"text-align: right;\">\n",
              "      <th></th>\n",
              "      <th>fixed acidity</th>\n",
              "      <th>volatile acidity</th>\n",
              "      <th>citric acid</th>\n",
              "      <th>residual sugar</th>\n",
              "      <th>chlorides</th>\n",
              "      <th>free sulfur dioxide</th>\n",
              "      <th>total sulfur dioxide</th>\n",
              "      <th>density</th>\n",
              "      <th>pH</th>\n",
              "      <th>sulphates</th>\n",
              "      <th>alcohol</th>\n",
              "      <th>quality</th>\n",
              "    </tr>\n",
              "  </thead>\n",
              "  <tbody>\n",
              "    <tr>\n",
              "      <th>0</th>\n",
              "      <td>7.4</td>\n",
              "      <td>0.700</td>\n",
              "      <td>0.00</td>\n",
              "      <td>1.9</td>\n",
              "      <td>0.076</td>\n",
              "      <td>11.0</td>\n",
              "      <td>34.0</td>\n",
              "      <td>0.99780</td>\n",
              "      <td>3.51</td>\n",
              "      <td>0.56</td>\n",
              "      <td>9.4</td>\n",
              "      <td>5</td>\n",
              "    </tr>\n",
              "    <tr>\n",
              "      <th>1</th>\n",
              "      <td>7.8</td>\n",
              "      <td>0.880</td>\n",
              "      <td>0.00</td>\n",
              "      <td>2.6</td>\n",
              "      <td>0.098</td>\n",
              "      <td>25.0</td>\n",
              "      <td>67.0</td>\n",
              "      <td>0.99680</td>\n",
              "      <td>3.20</td>\n",
              "      <td>0.68</td>\n",
              "      <td>9.8</td>\n",
              "      <td>5</td>\n",
              "    </tr>\n",
              "    <tr>\n",
              "      <th>2</th>\n",
              "      <td>7.8</td>\n",
              "      <td>0.760</td>\n",
              "      <td>0.04</td>\n",
              "      <td>2.3</td>\n",
              "      <td>0.092</td>\n",
              "      <td>15.0</td>\n",
              "      <td>54.0</td>\n",
              "      <td>0.99700</td>\n",
              "      <td>3.26</td>\n",
              "      <td>0.65</td>\n",
              "      <td>9.8</td>\n",
              "      <td>5</td>\n",
              "    </tr>\n",
              "    <tr>\n",
              "      <th>3</th>\n",
              "      <td>11.2</td>\n",
              "      <td>0.280</td>\n",
              "      <td>0.56</td>\n",
              "      <td>1.9</td>\n",
              "      <td>0.075</td>\n",
              "      <td>17.0</td>\n",
              "      <td>60.0</td>\n",
              "      <td>0.99800</td>\n",
              "      <td>3.16</td>\n",
              "      <td>0.58</td>\n",
              "      <td>9.8</td>\n",
              "      <td>6</td>\n",
              "    </tr>\n",
              "    <tr>\n",
              "      <th>4</th>\n",
              "      <td>7.4</td>\n",
              "      <td>0.700</td>\n",
              "      <td>0.00</td>\n",
              "      <td>1.9</td>\n",
              "      <td>0.076</td>\n",
              "      <td>11.0</td>\n",
              "      <td>34.0</td>\n",
              "      <td>0.99780</td>\n",
              "      <td>3.51</td>\n",
              "      <td>0.56</td>\n",
              "      <td>9.4</td>\n",
              "      <td>5</td>\n",
              "    </tr>\n",
              "    <tr>\n",
              "      <th>...</th>\n",
              "      <td>...</td>\n",
              "      <td>...</td>\n",
              "      <td>...</td>\n",
              "      <td>...</td>\n",
              "      <td>...</td>\n",
              "      <td>...</td>\n",
              "      <td>...</td>\n",
              "      <td>...</td>\n",
              "      <td>...</td>\n",
              "      <td>...</td>\n",
              "      <td>...</td>\n",
              "      <td>...</td>\n",
              "    </tr>\n",
              "    <tr>\n",
              "      <th>1594</th>\n",
              "      <td>6.2</td>\n",
              "      <td>0.600</td>\n",
              "      <td>0.08</td>\n",
              "      <td>2.0</td>\n",
              "      <td>0.090</td>\n",
              "      <td>32.0</td>\n",
              "      <td>44.0</td>\n",
              "      <td>0.99490</td>\n",
              "      <td>3.45</td>\n",
              "      <td>0.58</td>\n",
              "      <td>10.5</td>\n",
              "      <td>5</td>\n",
              "    </tr>\n",
              "    <tr>\n",
              "      <th>1595</th>\n",
              "      <td>5.9</td>\n",
              "      <td>0.550</td>\n",
              "      <td>0.10</td>\n",
              "      <td>2.2</td>\n",
              "      <td>0.062</td>\n",
              "      <td>39.0</td>\n",
              "      <td>51.0</td>\n",
              "      <td>0.99512</td>\n",
              "      <td>3.52</td>\n",
              "      <td>0.76</td>\n",
              "      <td>11.2</td>\n",
              "      <td>6</td>\n",
              "    </tr>\n",
              "    <tr>\n",
              "      <th>1596</th>\n",
              "      <td>6.3</td>\n",
              "      <td>0.510</td>\n",
              "      <td>0.13</td>\n",
              "      <td>2.3</td>\n",
              "      <td>0.076</td>\n",
              "      <td>29.0</td>\n",
              "      <td>40.0</td>\n",
              "      <td>0.99574</td>\n",
              "      <td>3.42</td>\n",
              "      <td>0.75</td>\n",
              "      <td>11.0</td>\n",
              "      <td>6</td>\n",
              "    </tr>\n",
              "    <tr>\n",
              "      <th>1597</th>\n",
              "      <td>5.9</td>\n",
              "      <td>0.645</td>\n",
              "      <td>0.12</td>\n",
              "      <td>2.0</td>\n",
              "      <td>0.075</td>\n",
              "      <td>32.0</td>\n",
              "      <td>44.0</td>\n",
              "      <td>0.99547</td>\n",
              "      <td>3.57</td>\n",
              "      <td>0.71</td>\n",
              "      <td>10.2</td>\n",
              "      <td>5</td>\n",
              "    </tr>\n",
              "    <tr>\n",
              "      <th>1598</th>\n",
              "      <td>6.0</td>\n",
              "      <td>0.310</td>\n",
              "      <td>0.47</td>\n",
              "      <td>3.6</td>\n",
              "      <td>0.067</td>\n",
              "      <td>18.0</td>\n",
              "      <td>42.0</td>\n",
              "      <td>0.99549</td>\n",
              "      <td>3.39</td>\n",
              "      <td>0.66</td>\n",
              "      <td>11.0</td>\n",
              "      <td>6</td>\n",
              "    </tr>\n",
              "  </tbody>\n",
              "</table>\n",
              "<p>1599 rows × 12 columns</p>\n",
              "</div>"
            ],
            "text/plain": [
              "      fixed acidity  volatile acidity  citric acid  ...  sulphates  alcohol  quality\n",
              "0               7.4             0.700         0.00  ...       0.56      9.4        5\n",
              "1               7.8             0.880         0.00  ...       0.68      9.8        5\n",
              "2               7.8             0.760         0.04  ...       0.65      9.8        5\n",
              "3              11.2             0.280         0.56  ...       0.58      9.8        6\n",
              "4               7.4             0.700         0.00  ...       0.56      9.4        5\n",
              "...             ...               ...          ...  ...        ...      ...      ...\n",
              "1594            6.2             0.600         0.08  ...       0.58     10.5        5\n",
              "1595            5.9             0.550         0.10  ...       0.76     11.2        6\n",
              "1596            6.3             0.510         0.13  ...       0.75     11.0        6\n",
              "1597            5.9             0.645         0.12  ...       0.71     10.2        5\n",
              "1598            6.0             0.310         0.47  ...       0.66     11.0        6\n",
              "\n",
              "[1599 rows x 12 columns]"
            ]
          },
          "metadata": {},
          "execution_count": 3
        }
      ]
    },
    {
      "cell_type": "code",
      "metadata": {
        "id": "_LwCPyMsJV62"
      },
      "source": [
        "x = df.iloc[:,:11].values"
      ],
      "execution_count": null,
      "outputs": []
    },
    {
      "cell_type": "code",
      "metadata": {
        "colab": {
          "base_uri": "https://localhost:8080/"
        },
        "id": "b1CkuWb6JZNr",
        "outputId": "e463bfad-5d88-40c8-eea6-0247dc986ac5"
      },
      "source": [
        "x"
      ],
      "execution_count": null,
      "outputs": [
        {
          "output_type": "execute_result",
          "data": {
            "text/plain": [
              "array([[ 7.4  ,  0.7  ,  0.   , ...,  3.51 ,  0.56 ,  9.4  ],\n",
              "       [ 7.8  ,  0.88 ,  0.   , ...,  3.2  ,  0.68 ,  9.8  ],\n",
              "       [ 7.8  ,  0.76 ,  0.04 , ...,  3.26 ,  0.65 ,  9.8  ],\n",
              "       ...,\n",
              "       [ 6.3  ,  0.51 ,  0.13 , ...,  3.42 ,  0.75 , 11.   ],\n",
              "       [ 5.9  ,  0.645,  0.12 , ...,  3.57 ,  0.71 , 10.2  ],\n",
              "       [ 6.   ,  0.31 ,  0.47 , ...,  3.39 ,  0.66 , 11.   ]])"
            ]
          },
          "metadata": {},
          "execution_count": 5
        }
      ]
    },
    {
      "cell_type": "code",
      "metadata": {
        "id": "fE0PWqoOJdKG"
      },
      "source": [
        "y = df.iloc[:,11].values"
      ],
      "execution_count": null,
      "outputs": []
    },
    {
      "cell_type": "code",
      "metadata": {
        "colab": {
          "base_uri": "https://localhost:8080/"
        },
        "id": "aPhZY83uJg5r",
        "outputId": "4bbd4ca3-4641-40a6-a64f-646caae2958b"
      },
      "source": [
        "y"
      ],
      "execution_count": null,
      "outputs": [
        {
          "output_type": "execute_result",
          "data": {
            "text/plain": [
              "array([5, 5, 5, ..., 6, 5, 6])"
            ]
          },
          "metadata": {},
          "execution_count": 7
        }
      ]
    },
    {
      "cell_type": "code",
      "metadata": {
        "id": "tqKzeO0cJklx"
      },
      "source": [
        "from sklearn.model_selection import train_test_split"
      ],
      "execution_count": null,
      "outputs": []
    },
    {
      "cell_type": "code",
      "metadata": {
        "id": "5MK6o7_QJnSW"
      },
      "source": [
        "x_train, x_test, y_train, y_test = train_test_split(x,y,test_size=0.2, random_state = 0 )"
      ],
      "execution_count": null,
      "outputs": []
    },
    {
      "cell_type": "code",
      "metadata": {
        "id": "ryuUYg-nJpvR"
      },
      "source": [
        "from sklearn.linear_model import LinearRegression"
      ],
      "execution_count": null,
      "outputs": []
    },
    {
      "cell_type": "code",
      "metadata": {
        "id": "-ouIDBINJsau"
      },
      "source": [
        "Lin = LinearRegression()"
      ],
      "execution_count": null,
      "outputs": []
    },
    {
      "cell_type": "code",
      "metadata": {
        "colab": {
          "base_uri": "https://localhost:8080/"
        },
        "id": "Rgz_qrMMJvZD",
        "outputId": "c6feaa39-bed9-4e21-e70d-88cf563aadfa"
      },
      "source": [
        "Lin.fit(x_train,y_train)"
      ],
      "execution_count": null,
      "outputs": [
        {
          "output_type": "execute_result",
          "data": {
            "text/plain": [
              "LinearRegression(copy_X=True, fit_intercept=True, n_jobs=None, normalize=False)"
            ]
          },
          "metadata": {},
          "execution_count": 12
        }
      ]
    },
    {
      "cell_type": "code",
      "metadata": {
        "id": "kGMRLptRJyq8"
      },
      "source": [
        "pred_y = Lin.predict(x_test)"
      ],
      "execution_count": null,
      "outputs": []
    },
    {
      "cell_type": "code",
      "metadata": {
        "colab": {
          "base_uri": "https://localhost:8080/"
        },
        "id": "_OYvDm2KJ1hM",
        "outputId": "94a6e09d-b5f1-4ce6-f028-2dde33ce52a2"
      },
      "source": [
        "pred_y"
      ],
      "execution_count": null,
      "outputs": [
        {
          "output_type": "execute_result",
          "data": {
            "text/plain": [
              "array([5.7829301 , 5.03619267, 6.59698929, 5.33912637, 5.93952898,\n",
              "       5.0072068 , 5.39616171, 6.05211188, 4.86760343, 4.95067572,\n",
              "       5.28580441, 5.41265269, 5.7057424 , 5.12921737, 5.52885206,\n",
              "       6.38052412, 6.81012527, 5.73803346, 5.97618825, 5.08613415,\n",
              "       6.34479863, 5.16400983, 5.64203971, 6.1462903 , 5.4817802 ,\n",
              "       5.03391406, 5.18721293, 6.48783659, 5.33301372, 6.30458308,\n",
              "       6.03452293, 5.82849303, 5.58503524, 5.28512701, 5.75656128,\n",
              "       6.15273792, 5.14134479, 5.48228021, 6.38983359, 5.7901819 ,\n",
              "       5.42936928, 6.04810414, 6.70159678, 6.60160183, 5.97253803,\n",
              "       4.78890763, 5.49565005, 6.01881894, 5.48895041, 6.10824243,\n",
              "       5.3126164 , 5.28492351, 5.76043226, 6.36081498, 5.7195388 ,\n",
              "       5.26971928, 5.08498332, 5.31050693, 6.50895816, 5.44323413,\n",
              "       5.16377401, 5.76427324, 6.0703837 , 6.28933679, 5.07315141,\n",
              "       6.11874641, 5.35681067, 6.01343647, 6.12184268, 5.98547673,\n",
              "       5.35327968, 5.4367731 , 5.06017324, 5.58939889, 5.62593935,\n",
              "       6.25651326, 5.37875073, 5.31024191, 5.72008022, 6.30275434,\n",
              "       5.71093253, 5.27783285, 5.89582077, 6.0876033 , 5.50616533,\n",
              "       5.37465715, 6.2437351 , 5.07332478, 5.32665801, 4.97398339,\n",
              "       5.15975198, 5.3222433 , 5.80802642, 5.41018532, 6.20608506,\n",
              "       5.35327968, 6.29102872, 5.3563169 , 5.44615319, 5.91167448,\n",
              "       6.8638794 , 5.95652806, 5.78388971, 6.29371091, 5.59599754,\n",
              "       4.95365311, 5.59599754, 5.42146389, 6.01303846, 5.27638601,\n",
              "       5.88672069, 5.12760247, 6.2448062 , 5.02250118, 5.61019652,\n",
              "       5.78465194, 5.67109764, 6.40669755, 5.80411913, 5.64203971,\n",
              "       5.1425518 , 5.90518858, 5.40535036, 5.08051616, 6.21318148,\n",
              "       6.31555382, 5.31479331, 5.43479319, 6.00371415, 6.44580043,\n",
              "       5.42123137, 5.21176713, 6.0115925 , 5.82456823, 6.30161065,\n",
              "       5.2778688 , 5.89171326, 5.27523169, 6.06991874, 5.33404791,\n",
              "       6.01515226, 5.09525238, 5.49565005, 5.26881614, 5.6457977 ,\n",
              "       5.7407852 , 6.2448062 , 6.40720033, 6.25146759, 5.27789573,\n",
              "       5.91333663, 5.90495368, 5.42146389, 5.51302494, 5.54847605,\n",
              "       5.40070493, 5.08033848, 5.3510922 , 6.22327966, 6.09839802,\n",
              "       5.93181807, 5.58654048, 6.28448742, 5.12182863, 5.92703798,\n",
              "       5.02880639, 6.02096889, 6.48614221, 5.47510197, 5.95369102,\n",
              "       5.96856352, 5.52714605, 4.99032758, 6.61783587, 5.83168392,\n",
              "       6.27155921, 6.1696774 , 6.82398109, 6.09221279, 4.79911152,\n",
              "       5.08007664, 6.97183788, 5.47185136, 6.15652237, 6.76814871,\n",
              "       5.01090071, 5.64760285, 5.78388971, 4.99837302, 6.13355739,\n",
              "       6.07096526, 5.90429107, 5.15557434, 5.46274017, 5.18721745,\n",
              "       5.16438178, 5.28580441, 5.14635187, 5.23327742, 5.13457255,\n",
              "       5.25484703, 6.16206701, 5.16430349, 5.29976489, 5.41360202,\n",
              "       4.95989181, 5.08718841, 6.34194262, 6.02109942, 5.40945753,\n",
              "       5.93102776, 6.16931767, 5.35093909, 6.37326597, 5.00471968,\n",
              "       5.44868099, 5.90152973, 6.03130172, 5.56044971, 5.00135995,\n",
              "       5.03938153, 5.93018212, 6.39367602, 5.74511903, 5.42761053,\n",
              "       6.01275242, 6.38386771, 5.76122648, 4.82219859, 5.46878592,\n",
              "       5.04430938, 5.90506617, 5.06816998, 5.87105926, 6.25707687,\n",
              "       5.63526985, 6.1124061 , 6.58032257, 6.51304421, 6.12637713,\n",
              "       5.34985341, 4.91834558, 5.02633902, 5.10209868, 5.93751622,\n",
              "       4.82726361, 5.58643272, 5.25007252, 4.87286412, 6.34221756,\n",
              "       4.87320824, 5.26969753, 4.89400677, 5.33869588, 5.52716577,\n",
              "       5.53897238, 5.12721593, 5.06001131, 5.13911179, 5.59628108,\n",
              "       5.34085607, 6.96723853, 5.31357668, 5.6468939 , 5.24038769,\n",
              "       4.69060078, 5.33061878, 4.97930332, 5.60209709, 6.49226284,\n",
              "       5.72883634, 5.7319909 , 5.63538976, 6.086924  , 5.92577835,\n",
              "       5.85174439, 6.37461452, 5.18497794, 6.56584684, 6.14312626,\n",
              "       5.37501664, 6.91651759, 5.7319909 , 6.34086207, 5.78421572,\n",
              "       5.18439125, 5.54950551, 5.33360868, 6.269919  , 5.88265344,\n",
              "       5.68163948, 5.42086654, 6.12538899, 5.31406745, 5.19528191,\n",
              "       5.70178575, 5.5675469 , 5.14670499, 5.15556398, 5.24007613,\n",
              "       5.69892321, 5.06382643, 5.35893169, 5.69605721, 6.10381152,\n",
              "       5.84992365, 5.33722415, 5.05158628, 5.59207818, 5.30872494,\n",
              "       5.91032222, 5.92390941, 5.3494868 , 5.3563169 , 5.10159886,\n",
              "       6.55975683, 6.01757571, 6.25129053, 5.16392559, 6.36720517])"
            ]
          },
          "metadata": {},
          "execution_count": 14
        }
      ]
    },
    {
      "cell_type": "code",
      "metadata": {
        "id": "8EiEf8zWJ43R"
      },
      "source": [
        "from sklearn.metrics import mean_absolute_error as mae"
      ],
      "execution_count": null,
      "outputs": []
    },
    {
      "cell_type": "code",
      "metadata": {
        "id": "u0mBl0rAKBX-",
        "outputId": "5333b02f-75b6-474e-d958-156f2f70863b",
        "colab": {
          "base_uri": "https://localhost:8080/"
        }
      },
      "source": [
        "mae(pred_y,y_test)"
      ],
      "execution_count": null,
      "outputs": [
        {
          "output_type": "execute_result",
          "data": {
            "text/plain": [
              "0.46963309286610855"
            ]
          },
          "metadata": {},
          "execution_count": 16
        }
      ]
    },
    {
      "cell_type": "code",
      "metadata": {
        "id": "Z-G_j87bKDxZ",
        "outputId": "8553cb98-1128-4361-fffa-b3e4ac17fd4d",
        "colab": {
          "base_uri": "https://localhost:8080/"
        }
      },
      "source": [
        "Lin.score(x_test, y_test)"
      ],
      "execution_count": null,
      "outputs": [
        {
          "output_type": "execute_result",
          "data": {
            "text/plain": [
              "0.3283887639580255"
            ]
          },
          "metadata": {},
          "execution_count": 17
        }
      ]
    },
    {
      "cell_type": "code",
      "metadata": {
        "id": "dztX31CMKGLc"
      },
      "source": [
        ""
      ],
      "execution_count": null,
      "outputs": []
    }
  ]
}